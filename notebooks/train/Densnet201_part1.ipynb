{
 "cells": [
  {
   "cell_type": "code",
   "execution_count": 4,
   "metadata": {
    "colab": {
     "base_uri": "https://localhost:8080/",
     "height": 34
    },
    "colab_type": "code",
    "id": "GIyJi4jbxoK2",
    "outputId": "bc45e2b4-41d2-46f2-df7c-37e05dbe851d"
   },
   "outputs": [
    {
     "name": "stderr",
     "output_type": "stream",
     "text": [
      "Using TensorFlow backend.\n"
     ]
    }
   ],
   "source": [
    "from skimage.io import imread, imshow, imsave\n",
    "from skimage.transform import resize, rotate\n",
    "import matplotlib.pyplot as plt\n",
    "import numpy as np\n",
    "import os\n",
    "from __future__ import print_function\n",
    "from keras.datasets import cifar10\n",
    "from keras.preprocessing.image import ImageDataGenerator\n",
    "from keras.utils import np_utils\n",
    "from keras.callbacks import ReduceLROnPlateau, CSVLogger, EarlyStopping\n",
    "import random\n",
    "from sklearn.model_selection import train_test_split\n",
    "import glob\n",
    "import pandas as pd\n",
    "from sklearn.model_selection import StratifiedKFold\n",
    "import shutil"
   ]
  },
  {
   "cell_type": "code",
   "execution_count": 6,
   "metadata": {},
   "outputs": [
    {
     "data": {
      "text/plain": [
       "50"
      ]
     },
     "execution_count": 6,
     "metadata": {},
     "output_type": "execute_result"
    }
   ],
   "source": [
    "len(np.linspace(0,0.5))"
   ]
  },
  {
   "cell_type": "code",
   "execution_count": 2,
   "metadata": {
    "colab": {},
    "colab_type": "code",
    "id": "KPfd_htTxoK8"
   },
   "outputs": [],
   "source": [
    "path_train = '/home/neuralbee/workspace/anti_spoof_detection/data/IDRND_FASDB_train/'\n",
    "path_val = '/home/neuralbee/workspace/anti_spoof_detection/data/IDRND_FASDB_val/'\n",
    "path_test = '/home/neuralbee/workspace/anti_spoof_detection/data/test/'\n",
    "BATCH_SIZE = 2\n",
    "img_rows = 224\n",
    "img_cols = 224\n",
    "nb_classes = 2"
   ]
  },
  {
   "cell_type": "code",
   "execution_count": 3,
   "metadata": {
    "colab": {},
    "colab_type": "code",
    "id": "iwAS_1dymbpL"
   },
   "outputs": [
    {
     "ename": "NameError",
     "evalue": "name 'glob' is not defined",
     "output_type": "error",
     "traceback": [
      "\u001b[0;31m---------------------------------------------------------------------------\u001b[0m",
      "\u001b[0;31mNameError\u001b[0m                                 Traceback (most recent call last)",
      "\u001b[0;32m<ipython-input-3-af7813c5d08c>\u001b[0m in \u001b[0;36m<module>\u001b[0;34m()\u001b[0m\n\u001b[0;32m----> 1\u001b[0;31m \u001b[0mtrain_real_filelist\u001b[0m \u001b[0;34m=\u001b[0m \u001b[0mglob\u001b[0m\u001b[0;34m.\u001b[0m\u001b[0mglob\u001b[0m\u001b[0;34m(\u001b[0m\u001b[0mos\u001b[0m\u001b[0;34m.\u001b[0m\u001b[0mpath\u001b[0m\u001b[0;34m.\u001b[0m\u001b[0mjoin\u001b[0m\u001b[0;34m(\u001b[0m\u001b[0mpath_train\u001b[0m\u001b[0;34m,\u001b[0m \u001b[0;34m'real/*.png'\u001b[0m\u001b[0;34m)\u001b[0m\u001b[0;34m)\u001b[0m\u001b[0;34m\u001b[0m\u001b[0;34m\u001b[0m\u001b[0m\n\u001b[0m\u001b[1;32m      2\u001b[0m \u001b[0mtrain_spoof_filelist\u001b[0m \u001b[0;34m=\u001b[0m \u001b[0mglob\u001b[0m\u001b[0;34m.\u001b[0m\u001b[0mglob\u001b[0m\u001b[0;34m(\u001b[0m\u001b[0mos\u001b[0m\u001b[0;34m.\u001b[0m\u001b[0mpath\u001b[0m\u001b[0;34m.\u001b[0m\u001b[0mjoin\u001b[0m\u001b[0;34m(\u001b[0m\u001b[0mpath_train\u001b[0m\u001b[0;34m,\u001b[0m \u001b[0;34m'spoof/*.png'\u001b[0m\u001b[0;34m)\u001b[0m\u001b[0;34m)\u001b[0m\u001b[0;34m\u001b[0m\u001b[0;34m\u001b[0m\u001b[0m\n\u001b[1;32m      3\u001b[0m \u001b[0mtrain_filelist\u001b[0m \u001b[0;34m=\u001b[0m \u001b[0mtrain_real_filelist\u001b[0m \u001b[0;34m+\u001b[0m \u001b[0mtrain_spoof_filelist\u001b[0m\u001b[0;34m\u001b[0m\u001b[0;34m\u001b[0m\u001b[0m\n\u001b[1;32m      4\u001b[0m \u001b[0mtrain_labels\u001b[0m \u001b[0;34m=\u001b[0m \u001b[0;34m[\u001b[0m\u001b[0;36m0\u001b[0m\u001b[0;34m]\u001b[0m \u001b[0;34m*\u001b[0m \u001b[0mlen\u001b[0m\u001b[0;34m(\u001b[0m\u001b[0mtrain_real_filelist\u001b[0m\u001b[0;34m)\u001b[0m \u001b[0;34m+\u001b[0m \u001b[0;34m[\u001b[0m\u001b[0;36m1\u001b[0m\u001b[0;34m]\u001b[0m \u001b[0;34m*\u001b[0m \u001b[0mlen\u001b[0m\u001b[0;34m(\u001b[0m\u001b[0mtrain_spoof_filelist\u001b[0m\u001b[0;34m)\u001b[0m\u001b[0;34m\u001b[0m\u001b[0;34m\u001b[0m\u001b[0m\n\u001b[1;32m      5\u001b[0m \u001b[0mtrain\u001b[0m \u001b[0;34m=\u001b[0m \u001b[0mpd\u001b[0m\u001b[0;34m.\u001b[0m\u001b[0mDataFrame\u001b[0m\u001b[0;34m(\u001b[0m\u001b[0;34m)\u001b[0m\u001b[0;34m\u001b[0m\u001b[0;34m\u001b[0m\u001b[0m\n",
      "\u001b[0;31mNameError\u001b[0m: name 'glob' is not defined"
     ]
    }
   ],
   "source": [
    "train_real_filelist = glob.glob(os.path.join(path_train, 'real/*.png'))\n",
    "train_spoof_filelist = glob.glob(os.path.join(path_train, 'spoof/*.png'))\n",
    "train_filelist = train_real_filelist + train_spoof_filelist\n",
    "train_labels = [0] * len(train_real_filelist) + [1] * len(train_spoof_filelist)\n",
    "train = pd.DataFrame()\n",
    "train['path'] = train_filelist\n",
    "train['label'] = train_labels\n",
    "\n",
    "val_real_filelist = glob.glob(os.path.join(path_val, 'real/*.png'))\n",
    "val_spoof_filelist = glob.glob(os.path.join(path_val, 'spoof/*.png'))\n",
    "val_filelist = val_real_filelist + val_spoof_filelist\n",
    "val_labels = [0] * len(val_real_filelist) + [1] * len(val_spoof_filelist)\n",
    "val = pd.DataFrame()\n",
    "val['path'] = val_filelist\n",
    "val['label'] = val_labels"
   ]
  },
  {
   "cell_type": "code",
   "execution_count": 2,
   "metadata": {},
   "outputs": [
    {
     "ename": "NameError",
     "evalue": "name 'train' is not defined",
     "output_type": "error",
     "traceback": [
      "\u001b[0;31m---------------------------------------------------------------------------\u001b[0m",
      "\u001b[0;31mNameError\u001b[0m                                 Traceback (most recent call last)",
      "\u001b[0;32m<ipython-input-2-3920bca6a352>\u001b[0m in \u001b[0;36m<module>\u001b[0;34m()\u001b[0m\n\u001b[0;32m----> 1\u001b[0;31m \u001b[0mtrain\u001b[0m\u001b[0;34m[\u001b[0m\u001b[0;34m'label'\u001b[0m\u001b[0;34m]\u001b[0m\u001b[0;34m.\u001b[0m\u001b[0mastype\u001b[0m\u001b[0;34m(\u001b[0m\u001b[0;34m'str'\u001b[0m\u001b[0;34m)\u001b[0m\u001b[0;34m\u001b[0m\u001b[0;34m\u001b[0m\u001b[0m\n\u001b[0m",
      "\u001b[0;31mNameError\u001b[0m: name 'train' is not defined"
     ]
    }
   ],
   "source": [
    "train['label'].astype('str')"
   ]
  },
  {
   "cell_type": "code",
   "execution_count": 4,
   "metadata": {
    "colab": {
     "base_uri": "https://localhost:8080/",
     "height": 51
    },
    "colab_type": "code",
    "id": "76ulPyN3xcep",
    "outputId": "00fe7fde-bee7-4ca1-9bee-a1789d29859f"
   },
   "outputs": [
    {
     "name": "stdout",
     "output_type": "stream",
     "text": [
      "Found 8299 images belonging to 2 classes.\n",
      "Found 1005 images belonging to 2 classes.\n"
     ]
    }
   ],
   "source": [
    "from keras.preprocessing.image import \n",
    "\n",
    "train_gen = ImageDataGenerator(\n",
    "        rescale=1./255,\n",
    "        shear_range=0.2,\n",
    "        zoom_range=0.2,\n",
    "        horizontal_flip=True,\n",
    "        vertical_flip=True,\n",
    "        fill_mode = 'reflect')\n",
    "\n",
    "test_datagen = ImageDataGenerator(rescale=1./255, fill_mode = 'nearest')\n",
    "\n",
    "train_gen = train_gen.flow_from_directory(\n",
    "        path_train,\n",
    "        target_size=(img_rows, img_rows),\n",
    "        batch_size=BATCH_SIZE,\n",
    "        class_mode='binary')\n",
    "\n",
    "val_gen = test_datagen.flow_from_directory(\n",
    "        path_val,\n",
    "        target_size=(img_rows, img_rows),\n",
    "        batch_size=BATCH_SIZE,\n",
    "        class_mode='binary')"
   ]
  },
  {
   "cell_type": "markdown",
   "metadata": {
    "colab_type": "text",
    "id": "oqaXvRytxoLK"
   },
   "source": [
    "# Build Model"
   ]
  },
  {
   "cell_type": "code",
   "execution_count": 5,
   "metadata": {
    "colab": {
     "base_uri": "https://localhost:8080/",
     "height": 68
    },
    "colab_type": "code",
    "id": "IyhHLGfdxoLK",
    "outputId": "a63ca998-736a-468a-8ac0-6945828cb63c"
   },
   "outputs": [
    {
     "name": "stderr",
     "output_type": "stream",
     "text": [
      "/usr/local/lib/python3.6/dist-packages/ipykernel_launcher.py:19: UserWarning: Update your `Model` call to the Keras 2 API: `Model(inputs=Tensor(\"in..., outputs=Tensor(\"de...)`\n"
     ]
    }
   ],
   "source": [
    "from keras.applications import DenseNet201\n",
    "model = DenseNet201(weights = \"imagenet\", include_top=False, input_shape = (img_rows, img_cols, 3))\n",
    "\n",
    "from keras.layers import Flatten, Dense, Dropout, BatchNormalization\n",
    "from keras.regularizers import l2\n",
    "#Adding custom Layers \n",
    "x = model.output\n",
    "x = Flatten()(x)\n",
    "x = Dense(2048, activation=\"elu\", kernel_regularizer=l2(0.0001), bias_regularizer=l2(0.0001))(x)\n",
    "x = BatchNormalization()(x)\n",
    "# x = Dropout(0.5)(x)\n",
    "x = Dense(1024, activation=\"elu\", kernel_regularizer=l2(0.0001), bias_regularizer=l2(0.0001))(x)\n",
    "x = BatchNormalization()(x)\n",
    "# x = Dropout(0.5)(x)\n",
    "predictions = Dense(1, activation=\"sigmoid\", kernel_regularizer=l2(0.0001), bias_regularizer=l2(0.0001))(x)\n",
    "\n",
    "from keras.models import Model\n",
    "# creating the final model \n",
    "model_final = Model(input = model.input, output = predictions)"
   ]
  },
  {
   "cell_type": "code",
   "execution_count": 6,
   "metadata": {
    "colab": {},
    "colab_type": "code",
    "id": "EdwDsbCt0w9k"
   },
   "outputs": [],
   "source": [
    "from keras.optimizers import Adam\n",
    "from sklearn.metrics import roc_curve, auc, roc_auc_score\n",
    "from keras.models import Model\n",
    "\n",
    "from keras import backend as K\n",
    "import tensorflow as tf\n",
    "def auc(y_true, y_pred):\n",
    "    auc = tf.metrics.auc(y_true, y_pred)[1]\n",
    "    K.get_session().run(tf.local_variables_initializer())\n",
    "    return auc\n",
    "  \n",
    "def f1(y_true, y_pred):\n",
    "    def recall(y_true, y_pred):\n",
    "        \"\"\"Recall metric.\n",
    "\n",
    "        Only computes a batch-wise average of recall.\n",
    "\n",
    "        Computes the recall, a metric for multi-label classification of\n",
    "        how many relevant items are selected.\n",
    "        \"\"\"\n",
    "        true_positives = K.sum(K.round(K.clip(y_true * y_pred, 0, 1)))\n",
    "        possible_positives = K.sum(K.round(K.clip(y_true, 0, 1)))\n",
    "        recall = true_positives / (possible_positives + K.epsilon())\n",
    "        return recall\n",
    "\n",
    "    def precision(y_true, y_pred):\n",
    "        \"\"\"Precision metric.\n",
    "\n",
    "        Only computes a batch-wise average of precision.\n",
    "\n",
    "        Computes the precision, a metric for multi-label classification of\n",
    "        how many selected items are relevant.\n",
    "        \"\"\"\n",
    "        true_positives = K.sum(K.round(K.clip(y_true * y_pred, 0, 1)))\n",
    "        predicted_positives = K.sum(K.round(K.clip(y_pred, 0, 1)))\n",
    "        precision = true_positives / (predicted_positives + K.epsilon())\n",
    "        return precision\n",
    "    precision = precision(y_true, y_pred)\n",
    "    recall = recall(y_true, y_pred)\n",
    "    return 2*((precision*recall)/(precision+recall+K.epsilon()))\n",
    "\n",
    "# compile the model \n",
    "model_final.compile(loss = \"binary_crossentropy\", optimizer = Adam(lr=0.0001, decay=0.0001), metrics=['accuracy',auc,f1])"
   ]
  },
  {
   "cell_type": "code",
   "execution_count": 7,
   "metadata": {},
   "outputs": [
    {
     "data": {
      "text/plain": [
       "{'real': 0, 'spoof': 1}"
      ]
     },
     "execution_count": 7,
     "metadata": {},
     "output_type": "execute_result"
    }
   ],
   "source": [
    "train_gen.class_indices"
   ]
  },
  {
   "cell_type": "code",
   "execution_count": 8,
   "metadata": {
    "colab": {},
    "colab_type": "code",
    "id": "7n2nmazMxoLV"
   },
   "outputs": [],
   "source": [
    "from keras.callbacks import ModelCheckpoint, ReduceLROnPlateau, LearningRateScheduler\n",
    "\n",
    "weight_path='DensNet201_part2.h5'\n",
    "\n",
    "checkpoint = ModelCheckpoint(weight_path, monitor='val_auc', verbose=1, \n",
    "                             save_best_only=True, mode='max', save_weights_only=False)\n",
    "\n",
    "reduceLROnPlat = ReduceLROnPlateau(monitor='f1', factor=0.1, patience=3, \n",
    "                                   verbose=1, mode='max', min_lr=0.0000001)\n",
    "\n",
    "def exp_decay(epoch):\n",
    "    initial_lrate = 0.0001\n",
    "    k = 0.1\n",
    "    lrate = initial_lrate * np.exp(-k*epoch)\n",
    "    return lrate\n",
    "lrate = LearningRateScheduler(exp_decay)\n",
    "  \n",
    "callbacks_list = [checkpoint, lrate]"
   ]
  },
  {
   "cell_type": "code",
   "execution_count": 9,
   "metadata": {
    "colab": {
     "base_uri": "https://localhost:8080/",
     "height": 364
    },
    "colab_type": "code",
    "id": "fzgk14Mhr9ul",
    "outputId": "74da802b-0cd6-42bb-967e-ccba07e03f06"
   },
   "outputs": [
    {
     "data": {
      "text/plain": [
       "[<matplotlib.lines.Line2D at 0x7fafdfd92eb8>]"
      ]
     },
     "execution_count": 9,
     "metadata": {},
     "output_type": "execute_result"
    },
    {
     "data": {
      "image/png": "[encoded data removed]",
      "text/plain": [
       "<matplotlib.figure.Figure at 0x7fb322c53eb8>"
      ]
     },
     "metadata": {
      "needs_background": "light"
     },
     "output_type": "display_data"
    }
   ],
   "source": [
    "lr = [exp_decay(i) for i in range(30)]\n",
    "plt.plot(lr)"
   ]
  },
  {
   "cell_type": "code",
   "execution_count": 10,
   "metadata": {
    "colab": {
     "base_uri": "https://localhost:8080/",
     "height": 2414
    },
    "colab_type": "code",
    "id": "2qJ9mYrzxoLY",
    "outputId": "b81bb9ce-6092-4649-ec37-3aa711960649"
   },
   "outputs": [
    {
     "name": "stdout",
     "output_type": "stream",
     "text": [
      "Epoch 1/50\n",
      "4150/4150 [==============================] - 1001s 241ms/step - loss: 0.9049 - acc: 0.8107 - auc: 0.5444 - f1: 0.8612 - val_loss: 1.4367 - val_acc: 0.6280 - val_auc: 0.5157 - val_f1: 0.7087\n",
      "\n",
      "Epoch 00001: val_auc improved from -inf to 0.51567, saving model to DensNet201_part2.h5\n",
      "Epoch 2/50\n",
      "4150/4150 [==============================] - 943s 227ms/step - loss: 0.8534 - acc: 0.8448 - auc: 0.5074 - f1: 0.8888 - val_loss: 1.1822 - val_acc: 0.6296 - val_auc: 0.5181 - val_f1: 0.7070\n",
      "\n",
      "Epoch 00002: val_auc improved from 0.51567 to 0.51806, saving model to DensNet201_part2.h5\n",
      "Epoch 3/50\n",
      "4150/4150 [==============================] - 943s 227ms/step - loss: 0.8324 - acc: 0.8498 - auc: 0.5178 - f1: 0.8933 - val_loss: 1.3250 - val_acc: 0.6176 - val_auc: 0.5171 - val_f1: 0.6957\n",
      "\n",
      "Epoch 00003: val_auc did not improve from 0.51806\n",
      "Epoch 4/50\n",
      "4150/4150 [==============================] - 945s 228ms/step - loss: 0.7857 - acc: 0.8498 - auc: 0.5218 - f1: 0.8929 - val_loss: 1.1953 - val_acc: 0.6276 - val_auc: 0.5253 - val_f1: 0.7094\n",
      "\n",
      "Epoch 00004: val_auc improved from 0.51806 to 0.52530, saving model to DensNet201_part2.h5\n",
      "Epoch 5/50\n",
      "4150/4150 [==============================] - 952s 229ms/step - loss: 0.7510 - acc: 0.8516 - auc: 0.5282 - f1: 0.8941 - val_loss: 1.3323 - val_acc: 0.6276 - val_auc: 0.5265 - val_f1: 0.7084\n",
      "\n",
      "Epoch 00005: val_auc improved from 0.52530 to 0.52655, saving model to DensNet201_part2.h5\n",
      "Epoch 6/50\n",
      "4150/4150 [==============================] - 947s 228ms/step - loss: 0.7279 - acc: 0.8520 - auc: 0.5262 - f1: 0.8952 - val_loss: 1.2103 - val_acc: 0.6196 - val_auc: 0.5286 - val_f1: 0.6770\n",
      "\n",
      "Epoch 00006: val_auc improved from 0.52655 to 0.52856, saving model to DensNet201_part2.h5\n",
      "Epoch 7/50\n",
      "4150/4150 [==============================] - 934s 225ms/step - loss: 0.7162 - acc: 0.8520 - auc: 0.5291 - f1: 0.8928 - val_loss: 1.3017 - val_acc: 0.5776 - val_auc: 0.5284 - val_f1: 0.6533\n",
      "\n",
      "Epoch 00007: val_auc did not improve from 0.52856\n",
      "Epoch 8/50\n",
      "4150/4150 [==============================] - 935s 225ms/step - loss: 0.7088 - acc: 0.8524 - auc: 0.5275 - f1: 0.8945 - val_loss: 1.2168 - val_acc: 0.6336 - val_auc: 0.5271 - val_f1: 0.7057\n",
      "\n",
      "Epoch 00008: val_auc did not improve from 0.52856\n",
      "Epoch 9/50\n",
      "4150/4150 [==============================] - 951s 229ms/step - loss: 0.6932 - acc: 0.8520 - auc: 0.5282 - f1: 0.8940 - val_loss: 1.0751 - val_acc: 0.6436 - val_auc: 0.5298 - val_f1: 0.7044\n",
      "\n",
      "Epoch 00009: val_auc improved from 0.52856 to 0.52980, saving model to DensNet201_part2.h5\n",
      "Epoch 10/50\n",
      "4150/4150 [==============================] - 943s 227ms/step - loss: 0.6838 - acc: 0.8527 - auc: 0.5306 - f1: 0.8937 - val_loss: 1.0678 - val_acc: 0.6156 - val_auc: 0.5320 - val_f1: 0.6914\n",
      "\n",
      "Epoch 00010: val_auc improved from 0.52980 to 0.53195, saving model to DensNet201_part2.h5\n",
      "Epoch 11/50\n",
      "4150/4150 [==============================] - 938s 226ms/step - loss: 0.6774 - acc: 0.8520 - auc: 0.5334 - f1: 0.8949 - val_loss: 1.0404 - val_acc: 0.6216 - val_auc: 0.5353 - val_f1: 0.7074\n",
      "\n",
      "Epoch 00011: val_auc improved from 0.53195 to 0.53525, saving model to DensNet201_part2.h5\n",
      "Epoch 12/50\n",
      "4150/4150 [==============================] - 937s 226ms/step - loss: 0.6688 - acc: 0.8523 - auc: 0.5373 - f1: 0.8946 - val_loss: 1.0198 - val_acc: 0.6286 - val_auc: 0.5394 - val_f1: 0.7044\n",
      "\n",
      "Epoch 00012: val_auc improved from 0.53525 to 0.53936, saving model to DensNet201_part2.h5\n",
      "Epoch 13/50\n",
      "4150/4150 [==============================] - 937s 226ms/step - loss: 0.6637 - acc: 0.8525 - auc: 0.5413 - f1: 0.8929 - val_loss: 1.1773 - val_acc: 0.6326 - val_auc: 0.5426 - val_f1: 0.7064\n",
      "\n",
      "Epoch 00013: val_auc improved from 0.53936 to 0.54257, saving model to DensNet201_part2.h5\n",
      "Epoch 14/50\n",
      "4150/4150 [==============================] - 937s 226ms/step - loss: 0.6590 - acc: 0.8520 - auc: 0.5443 - f1: 0.8938 - val_loss: 1.0186 - val_acc: 0.6236 - val_auc: 0.5468 - val_f1: 0.6964\n",
      "\n",
      "Epoch 00014: val_auc improved from 0.54257 to 0.54680, saving model to DensNet201_part2.h5\n",
      "Epoch 15/50\n",
      "4150/4150 [==============================] - 935s 225ms/step - loss: 0.6540 - acc: 0.8522 - auc: 0.5493 - f1: 0.8940 - val_loss: 0.9779 - val_acc: 0.6356 - val_auc: 0.5514 - val_f1: 0.7100\n",
      "\n",
      "Epoch 00015: val_auc improved from 0.54680 to 0.55142, saving model to DensNet201_part2.h5\n",
      "Epoch 16/50\n",
      "4150/4150 [==============================] - 947s 228ms/step - loss: 0.6520 - acc: 0.8524 - auc: 0.5536 - f1: 0.8936 - val_loss: 1.0041 - val_acc: 0.6306 - val_auc: 0.5560 - val_f1: 0.7010\n",
      "\n",
      "Epoch 00016: val_auc improved from 0.55142 to 0.55597, saving model to DensNet201_part2.h5\n",
      "Epoch 17/50\n",
      "4150/4150 [==============================] - 942s 227ms/step - loss: 0.6497 - acc: 0.8520 - auc: 0.5582 - f1: 0.8939 - val_loss: 0.9851 - val_acc: 0.6406 - val_auc: 0.5602 - val_f1: 0.7124\n",
      "\n",
      "Epoch 00017: val_auc improved from 0.55597 to 0.56023, saving model to DensNet201_part2.h5\n",
      "Epoch 18/50\n",
      "4150/4150 [==============================] - 944s 227ms/step - loss: 0.6463 - acc: 0.8527 - auc: 0.5620 - f1: 0.8945 - val_loss: 1.0020 - val_acc: 0.6356 - val_auc: 0.5638 - val_f1: 0.7070\n",
      "\n",
      "Epoch 00018: val_auc improved from 0.56023 to 0.56383, saving model to DensNet201_part2.h5\n",
      "Epoch 19/50\n",
      "4150/4150 [==============================] - 939s 226ms/step - loss: 0.6437 - acc: 0.8522 - auc: 0.5660 - f1: 0.8951 - val_loss: 1.0079 - val_acc: 0.6306 - val_auc: 0.5676 - val_f1: 0.7004\n",
      "\n",
      "Epoch 00019: val_auc improved from 0.56383 to 0.56761, saving model to DensNet201_part2.h5\n",
      "Epoch 20/50\n",
      "4150/4150 [==============================] - 934s 225ms/step - loss: 0.6426 - acc: 0.8523 - auc: 0.5692 - f1: 0.8950 - val_loss: 1.0055 - val_acc: 0.6296 - val_auc: 0.5710 - val_f1: 0.7070\n",
      "\n",
      "Epoch 00020: val_auc improved from 0.56761 to 0.57101, saving model to DensNet201_part2.h5\n",
      "Epoch 21/50\n",
      "4150/4150 [==============================] - 935s 225ms/step - loss: 0.6395 - acc: 0.8520 - auc: 0.5728 - f1: 0.8957 - val_loss: 1.0051 - val_acc: 0.6316 - val_auc: 0.5745 - val_f1: 0.7037\n",
      "\n",
      "Epoch 00021: val_auc improved from 0.57101 to 0.57450, saving model to DensNet201_part2.h5\n",
      "Epoch 22/50\n",
      "4150/4150 [==============================] - 935s 225ms/step - loss: 0.6377 - acc: 0.8517 - auc: 0.5762 - f1: 0.8941 - val_loss: 1.0014 - val_acc: 0.6286 - val_auc: 0.5781 - val_f1: 0.7067\n",
      "\n",
      "Epoch 00022: val_auc improved from 0.57450 to 0.57805, saving model to DensNet201_part2.h5\n",
      "Epoch 23/50\n",
      "4150/4150 [==============================] - 945s 228ms/step - loss: 0.6386 - acc: 0.8519 - auc: 0.5796 - f1: 0.8941 - val_loss: 0.9977 - val_acc: 0.6286 - val_auc: 0.5810 - val_f1: 0.7057\n",
      "\n",
      "Epoch 00023: val_auc improved from 0.57805 to 0.58097, saving model to DensNet201_part2.h5\n",
      "Epoch 24/50\n",
      "4150/4150 [==============================] - 947s 228ms/step - loss: 0.6358 - acc: 0.8523 - auc: 0.5824 - f1: 0.8944 - val_loss: 1.0148 - val_acc: 0.6186 - val_auc: 0.5838 - val_f1: 0.6920\n",
      "\n",
      "Epoch 00024: val_auc improved from 0.58097 to 0.58378, saving model to DensNet201_part2.h5\n",
      "Epoch 25/50\n",
      "4150/4150 [==============================] - 944s 228ms/step - loss: 0.6339 - acc: 0.8524 - auc: 0.5852 - f1: 0.8947 - val_loss: 0.9985 - val_acc: 0.6286 - val_auc: 0.5867 - val_f1: 0.7074\n",
      "\n",
      "Epoch 00025: val_auc improved from 0.58378 to 0.58669, saving model to DensNet201_part2.h5\n",
      "Epoch 26/50\n",
      "4150/4150 [==============================] - 945s 228ms/step - loss: 0.6334 - acc: 0.8517 - auc: 0.5881 - f1: 0.8937 - val_loss: 1.0034 - val_acc: 0.6326 - val_auc: 0.5895 - val_f1: 0.7044\n",
      "\n",
      "Epoch 00026: val_auc improved from 0.58669 to 0.58950, saving model to DensNet201_part2.h5\n",
      "Epoch 27/50\n",
      "4150/4150 [==============================] - 947s 228ms/step - loss: 0.6333 - acc: 0.8525 - auc: 0.5908 - f1: 0.8960 - val_loss: 0.9832 - val_acc: 0.6426 - val_auc: 0.5918 - val_f1: 0.7127\n",
      "\n",
      "Epoch 00027: val_auc improved from 0.58950 to 0.59183, saving model to DensNet201_part2.h5\n",
      "Epoch 28/50\n",
      "4150/4150 [==============================] - 945s 228ms/step - loss: 0.6347 - acc: 0.8523 - auc: 0.5927 - f1: 0.8937 - val_loss: 1.0024 - val_acc: 0.6196 - val_auc: 0.5939 - val_f1: 0.6937\n",
      "\n",
      "Epoch 00028: val_auc improved from 0.59183 to 0.59390, saving model to DensNet201_part2.h5\n",
      "Epoch 29/50\n",
      "4150/4150 [==============================] - 941s 227ms/step - loss: 0.6312 - acc: 0.8519 - auc: 0.5952 - f1: 0.8941 - val_loss: 0.9800 - val_acc: 0.6396 - val_auc: 0.5963 - val_f1: 0.7177\n",
      "\n",
      "Epoch 00029: val_auc improved from 0.59390 to 0.59629, saving model to DensNet201_part2.h5\n",
      "Epoch 30/50\n",
      "4150/4150 [==============================] - 937s 226ms/step - loss: 0.6316 - acc: 0.8520 - auc: 0.5973 - f1: 0.8949 - val_loss: 1.0086 - val_acc: 0.6216 - val_auc: 0.5984 - val_f1: 0.6954\n",
      "\n",
      "Epoch 00030: val_auc improved from 0.59629 to 0.59843, saving model to DensNet201_part2.h5\n",
      "Epoch 31/50\n",
      "4150/4150 [==============================] - 932s 225ms/step - loss: 0.6336 - acc: 0.8519 - auc: 0.5994 - f1: 0.8942 - val_loss: 0.9928 - val_acc: 0.6236 - val_auc: 0.6004 - val_f1: 0.6957\n",
      "\n",
      "Epoch 00031: val_auc improved from 0.59843 to 0.60040, saving model to DensNet201_part2.h5\n",
      "Epoch 32/50\n",
      "4150/4150 [==============================] - 933s 225ms/step - loss: 0.6298 - acc: 0.8522 - auc: 0.6014 - f1: 0.8949 - val_loss: 0.9999 - val_acc: 0.6296 - val_auc: 0.6024 - val_f1: 0.7030\n",
      "\n",
      "Epoch 00032: val_auc improved from 0.60040 to 0.60241, saving model to DensNet201_part2.h5\n",
      "Epoch 33/50\n",
      "4150/4150 [==============================] - 934s 225ms/step - loss: 0.6299 - acc: 0.8518 - auc: 0.6034 - f1: 0.8942 - val_loss: 0.9762 - val_acc: 0.6386 - val_auc: 0.6044 - val_f1: 0.7147\n",
      "\n",
      "Epoch 00033: val_auc improved from 0.60241 to 0.60435, saving model to DensNet201_part2.h5\n",
      "Epoch 34/50\n",
      "4150/4150 [==============================] - 933s 225ms/step - loss: 0.6293 - acc: 0.8525 - auc: 0.6054 - f1: 0.8953 - val_loss: 0.9746 - val_acc: 0.6346 - val_auc: 0.6063 - val_f1: 0.7080\n",
      "\n",
      "Epoch 00034: val_auc improved from 0.60435 to 0.60631, saving model to DensNet201_part2.h5\n",
      "Epoch 35/50\n",
      "4150/4150 [==============================] - 934s 225ms/step - loss: 0.6286 - acc: 0.8519 - auc: 0.6073 - f1: 0.8938 - val_loss: 0.9454 - val_acc: 0.6436 - val_auc: 0.6083 - val_f1: 0.7197\n",
      "\n",
      "Epoch 00035: val_auc improved from 0.60631 to 0.60826, saving model to DensNet201_part2.h5\n",
      "Epoch 36/50\n",
      "4150/4150 [==============================] - 934s 225ms/step - loss: 0.6278 - acc: 0.8528 - auc: 0.6092 - f1: 0.8946 - val_loss: 0.9981 - val_acc: 0.6186 - val_auc: 0.6101 - val_f1: 0.6920\n",
      "\n",
      "Epoch 00036: val_auc improved from 0.60826 to 0.61012, saving model to DensNet201_part2.h5\n",
      "Epoch 37/50\n",
      "4150/4150 [==============================] - 933s 225ms/step - loss: 0.6282 - acc: 0.8527 - auc: 0.6109 - f1: 0.8953 - val_loss: 0.9745 - val_acc: 0.6456 - val_auc: 0.6118 - val_f1: 0.7237\n",
      "\n",
      "Epoch 00037: val_auc improved from 0.61012 to 0.61177, saving model to DensNet201_part2.h5\n",
      "Epoch 38/50\n",
      "4150/4150 [==============================] - 933s 225ms/step - loss: 0.6276 - acc: 0.8519 - auc: 0.6125 - f1: 0.8933 - val_loss: 1.0106 - val_acc: 0.6156 - val_auc: 0.6133 - val_f1: 0.6940\n",
      "\n",
      "Epoch 00038: val_auc improved from 0.61177 to 0.61333, saving model to DensNet201_part2.h5\n",
      "Epoch 39/50\n",
      "4150/4150 [==============================] - 932s 225ms/step - loss: 0.6288 - acc: 0.8522 - auc: 0.6141 - f1: 0.8935 - val_loss: 0.9955 - val_acc: 0.6296 - val_auc: 0.6147 - val_f1: 0.7124\n",
      "\n",
      "Epoch 00039: val_auc improved from 0.61333 to 0.61466, saving model to DensNet201_part2.h5\n",
      "Epoch 40/50\n",
      "4150/4150 [==============================] - 932s 225ms/step - loss: 0.6279 - acc: 0.8522 - auc: 0.6154 - f1: 0.8941 - val_loss: 0.9669 - val_acc: 0.6466 - val_auc: 0.6161 - val_f1: 0.7224\n",
      "\n",
      "Epoch 00040: val_auc improved from 0.61466 to 0.61605, saving model to DensNet201_part2.h5\n",
      "Epoch 41/50\n",
      "4150/4150 [==============================] - 934s 225ms/step - loss: 0.6273 - acc: 0.8523 - auc: 0.6168 - f1: 0.8945 - val_loss: 0.9696 - val_acc: 0.6366 - val_auc: 0.6175 - val_f1: 0.7087\n",
      "\n",
      "Epoch 00041: val_auc improved from 0.61605 to 0.61750, saving model to DensNet201_part2.h5\n",
      "Epoch 42/50\n",
      "4150/4150 [==============================] - 933s 225ms/step - loss: 0.6286 - acc: 0.8520 - auc: 0.6182 - f1: 0.8941 - val_loss: 0.9778 - val_acc: 0.6366 - val_auc: 0.6187 - val_f1: 0.7117\n",
      "\n",
      "Epoch 00042: val_auc improved from 0.61750 to 0.61874, saving model to DensNet201_part2.h5\n",
      "Epoch 43/50\n",
      "4150/4150 [==============================] - 934s 225ms/step - loss: 0.6267 - acc: 0.8523 - auc: 0.6193 - f1: 0.8949 - val_loss: 0.9856 - val_acc: 0.6336 - val_auc: 0.6202 - val_f1: 0.7130\n",
      "\n",
      "Epoch 00043: val_auc improved from 0.61874 to 0.62017, saving model to DensNet201_part2.h5\n",
      "Epoch 44/50\n",
      "4150/4150 [==============================] - 930s 224ms/step - loss: 0.6265 - acc: 0.8520 - auc: 0.6208 - f1: 0.8936 - val_loss: 1.0131 - val_acc: 0.6186 - val_auc: 0.6213 - val_f1: 0.6864\n",
      "\n",
      "Epoch 00044: val_auc improved from 0.62017 to 0.62132, saving model to DensNet201_part2.h5\n",
      "Epoch 45/50\n",
      "4150/4150 [==============================] - 935s 225ms/step - loss: 0.6280 - acc: 0.8524 - auc: 0.6218 - f1: 0.8937 - val_loss: 0.9562 - val_acc: 0.6557 - val_auc: 0.6224 - val_f1: 0.7331\n",
      "\n",
      "Epoch 00045: val_auc improved from 0.62132 to 0.62239, saving model to DensNet201_part2.h5\n",
      "Epoch 46/50\n",
      "4150/4150 [==============================] - 931s 224ms/step - loss: 0.6267 - acc: 0.8524 - auc: 0.6230 - f1: 0.8934 - val_loss: 1.0072 - val_acc: 0.6106 - val_auc: 0.6236 - val_f1: 0.6894\n",
      "\n",
      "Epoch 00046: val_auc improved from 0.62239 to 0.62360, saving model to DensNet201_part2.h5\n",
      "Epoch 47/50\n",
      "4150/4150 [==============================] - 934s 225ms/step - loss: 0.6270 - acc: 0.8519 - auc: 0.6242 - f1: 0.8949 - val_loss: 0.9622 - val_acc: 0.6456 - val_auc: 0.6247 - val_f1: 0.7264\n",
      "\n",
      "Epoch 00047: val_auc improved from 0.62360 to 0.62472, saving model to DensNet201_part2.h5\n",
      "Epoch 48/50\n",
      "4150/4150 [==============================] - 931s 224ms/step - loss: 0.6313 - acc: 0.8517 - auc: 0.6251 - f1: 0.8926 - val_loss: 1.0197 - val_acc: 0.6116 - val_auc: 0.6254 - val_f1: 0.6830\n",
      "\n",
      "Epoch 00048: val_auc improved from 0.62472 to 0.62545, saving model to DensNet201_part2.h5\n",
      "Epoch 49/50\n",
      "4150/4150 [==============================] - 934s 225ms/step - loss: 0.6256 - acc: 0.8519 - auc: 0.6260 - f1: 0.8950 - val_loss: 0.9585 - val_acc: 0.6386 - val_auc: 0.6265 - val_f1: 0.7124\n",
      "\n",
      "Epoch 00049: val_auc improved from 0.62545 to 0.62653, saving model to DensNet201_part2.h5\n",
      "Epoch 50/50\n",
      "4150/4150 [==============================] - 933s 225ms/step - loss: 0.6271 - acc: 0.8524 - auc: 0.6269 - f1: 0.8947 - val_loss: 0.9751 - val_acc: 0.6446 - val_auc: 0.6274 - val_f1: 0.7137\n",
      "\n",
      "Epoch 00050: val_auc improved from 0.62653 to 0.62742, saving model to DensNet201_part2.h5\n"
     ]
    }
   ],
   "source": [
    "loss_history = [model_final.fit_generator(train_gen, \n",
    "                             steps_per_epoch = 8300/BATCH_SIZE, \n",
    "                             epochs = 50,\n",
    "                             validation_data = val_gen,\n",
    "                             validation_steps = 1000/BATCH_SIZE,\n",
    "                             callbacks = callbacks_list)]"
   ]
  },
  {
   "cell_type": "code",
   "execution_count": 11,
   "metadata": {
    "colab": {
     "base_uri": "https://localhost:8080/",
     "height": 197
    },
    "colab_type": "code",
    "id": "cxkk9EHxxoLc",
    "outputId": "e5b6b33f-2977-4099-fc85-12e31ce68db9"
   },
   "outputs": [
    {
     "data": {
      "image/png": "[encoded data removed]",
      "text/plain": [
       "<matplotlib.figure.Figure at 0x7fdff0200160>"
      ]
     },
     "metadata": {
      "needs_background": "light"
     },
     "output_type": "display_data"
    }
   ],
   "source": [
    "def show_loss(loss_history):\n",
    "    epich = np.cumsum(np.concatenate(\n",
    "        [np.linspace(0.5, 1, len(mh.epoch)) for mh in loss_history]))\n",
    "    fig, (ax1, ax2, ax3, ax4) = plt.subplots(1,4, figsize=(22, 10))\n",
    "    _ = ax1.plot(epich,\n",
    "                 np.concatenate([mh.history['loss'] for mh in loss_history]),\n",
    "                 'b-',\n",
    "                 epich, np.concatenate(\n",
    "            [mh.history['val_loss'] for mh in loss_history]), 'r-')\n",
    "    ax1.legend(['Training', 'Validation'])\n",
    "    ax1.set_title('Loss')\n",
    "\n",
    "    _ = ax2.plot(epich, np.concatenate(\n",
    "        [mh.history['acc'] for mh in loss_history]), 'b-',\n",
    "                     epich, np.concatenate(\n",
    "            [mh.history['val_acc'] for mh in loss_history]),\n",
    "                     'r-')\n",
    "    ax2.legend(['Training', 'Validation'])\n",
    "    ax2.set_title('accuracy')\n",
    "    \n",
    "    _ = ax3.plot(epich, np.concatenate(\n",
    "        [mh.history['auc'] for mh in loss_history]), 'b-',\n",
    "                     epich, np.concatenate(\n",
    "            [mh.history['val_auc'] for mh in loss_history]),\n",
    "                     'r-')\n",
    "    ax3.legend(['Training', 'Validation'])\n",
    "    ax3.set_title('auc')\n",
    "\n",
    "    _ = ax4.plot(epich, np.concatenate(\n",
    "        [mh.history['f1'] for mh in loss_history]), 'b-',\n",
    "                     epich, np.concatenate(\n",
    "            [mh.history['val_f1'] for mh in loss_history]),\n",
    "                     'r-')\n",
    "    ax4.legend(['Training', 'Validation'])\n",
    "    ax4.set_title('f1')\n",
    "    \n",
    "show_loss(loss_history)"
   ]
  },
  {
   "cell_type": "code",
   "execution_count": 11,
   "metadata": {},
   "outputs": [],
   "source": [
    "a = {'1':1, '2':2}"
   ]
  },
  {
   "cell_type": "code",
   "execution_count": 12,
   "metadata": {},
   "outputs": [
    {
     "data": {
      "text/plain": [
       "{'1': 1, '2': 2}"
      ]
     },
     "execution_count": 12,
     "metadata": {},
     "output_type": "execute_result"
    }
   ],
   "source": [
    "a"
   ]
  },
  {
   "cell_type": "code",
   "execution_count": 5,
   "metadata": {
    "colab": {},
    "colab_type": "code",
    "id": "4Xe27bEeALCn"
   },
   "outputs": [
    {
     "ename": "NameError",
     "evalue": "name 'K' is not defined",
     "output_type": "error",
     "traceback": [
      "\u001b[0;31m---------------------------------------------------------------------------\u001b[0m",
      "\u001b[0;31mNameError\u001b[0m                                 Traceback (most recent call last)",
      "\u001b[0;32m<ipython-input-5-ab4e10c4b9c1>\u001b[0m in \u001b[0;36m<module>\u001b[0;34m()\u001b[0m\n\u001b[0;32m----> 1\u001b[0;31m \u001b[0mK\u001b[0m\u001b[0;34m.\u001b[0m\u001b[0mclear_session\u001b[0m\u001b[0;34m(\u001b[0m\u001b[0;34m)\u001b[0m\u001b[0;34m\u001b[0m\u001b[0;34m\u001b[0m\u001b[0m\n\u001b[0m",
      "\u001b[0;31mNameError\u001b[0m: name 'K' is not defined"
     ]
    }
   ],
   "source": [
    "K.clear_session()"
   ]
  },
  {
   "cell_type": "markdown",
   "metadata": {
    "colab_type": "text",
    "id": "wyZ650Xzoi77"
   },
   "source": [
    "# TEST"
   ]
  },
  {
   "cell_type": "code",
   "execution_count": null,
   "metadata": {
    "colab": {
     "base_uri": "https://localhost:8080/",
     "height": 34
    },
    "colab_type": "code",
    "id": "3F7AgIFR1UaF",
    "outputId": "2f16d45a-ea78-4a6a-f7c4-7bc23405b468"
   },
   "outputs": [],
   "source": [
    "from keras.models import load_model\n",
    "model_final = load_model('DensNet201_part1.h5', custom_objects={'auc':auc, 'f1':f1})"
   ]
  },
  {
   "cell_type": "code",
   "execution_count": null,
   "metadata": {
    "colab": {
     "base_uri": "https://localhost:8080/",
     "height": 34
    },
    "colab_type": "code",
    "id": "R_btjW5ZEXXA",
    "outputId": "cb081b16-0184-48ed-a859-0e276dc5e466"
   },
   "outputs": [],
   "source": [
    "!pip install tqdm"
   ]
  },
  {
   "cell_type": "code",
   "execution_count": null,
   "metadata": {
    "colab": {
     "base_uri": "https://localhost:8080/",
     "height": 68
    },
    "colab_type": "code",
    "id": "HpDYEXSjxoLi",
    "outputId": "41d0d068-f1c8-43d2-b1a0-4006d6e1dd09"
   },
   "outputs": [],
   "source": [
    "from tqdm import tqdm\n",
    "pred1 = []\n",
    "pred2 = []\n",
    "pred3 = []\n",
    "pred4 = []\n",
    "for img in tqdm(test_filelist):\n",
    "    image1 = imread(img)\n",
    "    image2 = np.fliplr(image1)\n",
    "    image3 = np.flipud(image1)\n",
    "    image4 = np.flipud(image2)\n",
    "\n",
    "    image1 = resize(image1, (img_rows, img_cols, 3))\n",
    "    image2 = resize(image2, (img_rows, img_cols, 3))\n",
    "    image3 = resize(image3, (img_rows, img_cols, 3))\n",
    "    image4 = resize(image4, (img_rows, img_cols, 3))\n",
    "\n",
    "    pred1.append(model_final.predict(image1.reshape((1,image1.shape[0],image1.shape[1],image1.shape[2])))[0][0])\n",
    "    pred2.append(model_final.predict(image2.reshape((1,image2.shape[0],image2.shape[1],image2.shape[2])))[0][0])\n",
    "    pred3.append(model_final.predict(image3.reshape((1,image3.shape[0],image3.shape[1],image3.shape[2])))[0][0])\n",
    "    pred4.append(model_final.predict(image4.reshape((1,image4.shape[0],image4.shape[1],image4.shape[2])))[0][0])"
   ]
  },
  {
   "cell_type": "code",
   "execution_count": null,
   "metadata": {
    "colab": {},
    "colab_type": "code",
    "id": "kKL-MAXp7cnb"
   },
   "outputs": [],
   "source": [
    "test.drop(columns=[0,2], inplace=True)"
   ]
  },
  {
   "cell_type": "code",
   "execution_count": null,
   "metadata": {
    "colab": {},
    "colab_type": "code",
    "id": "fFGoSUBdxoLl"
   },
   "outputs": [],
   "source": [
    "test['path'] = [*map(lambda x: x.split('/')[2], test_filelist)]\n",
    "test['pred'] = pred1\n",
    "test.columns = [0,2]\n",
    "\n",
    "test.to_csv('predict1.csv', index=False)\n",
    "\n",
    "test[2] = pred2\n",
    "test.to_csv('predict2.csv', index=False)\n",
    "\n",
    "test[2] = pred3\n",
    "test.to_csv('predict3.csv', index=False)\n",
    "\n",
    "test[2] = pred4\n",
    "test.to_csv('predict4.csv', index=False)"
   ]
  },
  {
   "cell_type": "code",
   "execution_count": null,
   "metadata": {
    "colab": {},
    "colab_type": "code",
    "id": "XbW7NI6iZR9Z"
   },
   "outputs": [],
   "source": [
    "from __future__ import division\n",
    "from collections import defaultdict\n",
    "from glob import glob\n",
    "import sys\n",
    "\n",
    "\n",
    "def kaggle_bag(glob_files, loc_outfile):\n",
    "    with open(loc_outfile,\"w\") as outfile:\n",
    "    all_ranks = defaultdict(list)\n",
    "    for i, glob_file in enumerate( glob(glob_files) ):\n",
    "        file_ranks = []\n",
    "        print(\"parsing: {}\".format(glob_file))\n",
    "        # sort glob_file by first column, ignoring the first line\n",
    "        lines = open(glob_file).readlines()\n",
    "        lines = [lines[0]] + sorted(lines[1:])\n",
    "        for e, line in enumerate( lines ):\n",
    "            if e == 0 and i == 0:\n",
    "                outfile.write( line )\n",
    "            elif e > 0:\n",
    "                r = line.strip().split(\",\")\n",
    "                file_ranks.append( (float(r[1]), e, r[0]) )\n",
    "        for rank, item in enumerate( sorted(file_ranks) ):\n",
    "            all_ranks[(item[1],item[2])].append(rank)\n",
    "    average_ranks = []\n",
    "    for k in sorted(all_ranks):\n",
    "        average_ranks.append((sum(all_ranks[k])/len(all_ranks[k]),k))\n",
    "    ranked_ranks = []\n",
    "    for rank, k in enumerate(sorted(average_ranks)):\n",
    "        ranked_ranks.append((k[1][0],k[1][1],rank/(len(average_ranks)-1)))\n",
    "    for k in sorted(ranked_ranks):\n",
    "        outfile.write(\"%s,%s\\n\"%(k[1],k[2]))\n",
    "    print(\"wrote to {}\".format(loc_outfile))\n"
   ]
  },
  {
   "cell_type": "code",
   "execution_count": null,
   "metadata": {
    "colab": {
     "base_uri": "https://localhost:8080/",
     "height": 102
    },
    "colab_type": "code",
    "id": "cx1DbBOOZrKw",
    "outputId": "6e0b9410-7d05-4dac-f4af-ea6e7c1e649a"
   },
   "outputs": [],
   "source": [
    "kaggle_bag(\"predict*.csv\", 'submission1tta.csv')"
   ]
  },
  {
   "cell_type": "code",
   "execution_count": null,
   "metadata": {},
   "outputs": [],
   "source": [
    "function dump(o)\n",
    "\tif type(o) == 'table' then\n",
    "\t\tlocal s = '{ '\n",
    "\t\tfor k,v in pairs(o) do\n",
    "\t\t\tif type(k) ~= 'number' then k = '\"'..k..'\"' end\n",
    "\t\t\ts = s .. '['..k..'] = ' .. dump(v) .. ','\n",
    "\t\tend\n",
    "\t\treturn s .. '} '\n",
    "\telse\n",
    "\t\treturn tostring(o)\n",
    "\tend\n",
    "end"
   ]
  }
 ],
 "metadata": {
  "accelerator": "GPU",
  "colab": {
   "collapsed_sections": [
    "oqaXvRytxoLK"
   ],
   "name": "Densnet201_cv_part2_tta.ipynb",
   "provenance": [],
   "version": "0.3.2"
  },
  "kernelspec": {
   "display_name": "python3.6",
   "language": "python",
   "name": "python3.6"
  },
  "language_info": {
   "codemirror_mode": {
    "name": "ipython",
    "version": 3
   },
   "file_extension": ".py",
   "mimetype": "text/x-python",
   "name": "python",
   "nbconvert_exporter": "python",
   "pygments_lexer": "ipython3",
   "version": "3.6.8"
  }
 },
 "nbformat": 4,
 "nbformat_minor": 1
}
